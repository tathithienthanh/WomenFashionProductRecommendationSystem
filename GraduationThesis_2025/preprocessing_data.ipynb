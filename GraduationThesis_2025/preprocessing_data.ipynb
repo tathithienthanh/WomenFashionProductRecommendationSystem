{
 "cells": [
  {
   "cell_type": "code",
   "execution_count": null,
   "id": "bc58dd9b-b8bc-495d-a364-35bd497ab3ab",
   "metadata": {},
   "outputs": [],
   "source": [
    "import numpy as np\n",
    "import pandas as pd\n",
    "import seaborn as sns\n",
    "import matplotlib.pyplot as plt\n",
    "import unicodedata\n",
    "from IPython.display import Image, display\n",
    "from wordcloud import WordCloud"
   ]
  },
  {
   "cell_type": "markdown",
   "id": "d8b5112b-50bf-4051-864e-16c13d9909da",
   "metadata": {},
   "source": [
    "# EXTRACT AND PRE-PROCESSING DATA"
   ]
  },
  {
   "cell_type": "markdown",
   "id": "af09b94a-9872-4e34-853b-34c9e4f31f72",
   "metadata": {},
   "source": [
    "## Product dataframe "
   ]
  },
  {
   "cell_type": "code",
   "execution_count": null,
   "id": "5527e182-164f-4e3b-931b-070e62264cfb",
   "metadata": {
    "scrolled": true
   },
   "outputs": [],
   "source": [
    "df_product = pd.read_csv(r'C:\\Users\\ASUS\\Desktop\\T\\ĐAN_KLTN\\getdata\\combined_data.csv')\n",
    "df_product"
   ]
  },
  {
   "cell_type": "code",
   "execution_count": null,
   "id": "f53fc641-c61e-424f-8d1a-03b0c4e0e638",
   "metadata": {},
   "outputs": [],
   "source": [
    "df_product.info()"
   ]
  },
  {
   "cell_type": "code",
   "execution_count": null,
   "id": "1c3f0144-5a63-4f5e-9473-8dd9a3aa2c71",
   "metadata": {},
   "outputs": [],
   "source": [
    "df_product.duplicated().sum()"
   ]
  },
  {
   "cell_type": "code",
   "execution_count": null,
   "id": "faaaa03f-ef82-4e90-8158-96f6f49f85cb",
   "metadata": {},
   "outputs": [],
   "source": [
    "df_product = df_product.drop_duplicates()"
   ]
  },
  {
   "cell_type": "code",
   "execution_count": null,
   "id": "4b7301e2-4351-413c-b05f-da53bebf166d",
   "metadata": {},
   "outputs": [],
   "source": [
    "df_product = df_product.drop(columns=['countReviews'])\n",
    "df_product"
   ]
  },
  {
   "cell_type": "code",
   "execution_count": null,
   "id": "751a0a57-5230-47c3-bd7f-3babf9d344e3",
   "metadata": {},
   "outputs": [],
   "source": [
    "df_product.loc[:, 'discounts'] = df_product['discounts'].apply(lambda x: unicodedata.normalize('NFC', str(x)) if pd.notna(x) else x)"
   ]
  },
  {
   "cell_type": "code",
   "execution_count": null,
   "id": "dd9bef15-e81d-4ab5-8253-b995dd0d10a6",
   "metadata": {},
   "outputs": [],
   "source": [
    "df_product['discounts'] = df_product['discounts'].str.extract(r'(\\d+)').astype(float) / 100\n",
    "df_product"
   ]
  },
  {
   "cell_type": "code",
   "execution_count": null,
   "id": "58994788-f098-4993-878d-528178e9aca3",
   "metadata": {},
   "outputs": [],
   "source": [
    "df_product.loc[:, 'discounts'] = df_product['discounts'].fillna(0)"
   ]
  },
  {
   "cell_type": "code",
   "execution_count": null,
   "id": "bcf7a8ea-58a1-4064-bdbb-790e76005111",
   "metadata": {},
   "outputs": [],
   "source": [
    "df_product['discounts'].median()"
   ]
  },
  {
   "cell_type": "code",
   "execution_count": null,
   "id": "633a7b6b-e9d5-4c18-80ff-06fb669d0862",
   "metadata": {},
   "outputs": [],
   "source": [
    "df_product.loc[df_product['discounts'] >= 1, 'discounts'] = df_product['discounts'].median()\n",
    "df_product['discounts'].describe()"
   ]
  },
  {
   "cell_type": "code",
   "execution_count": null,
   "id": "09d59859-470a-4af4-b893-096046f60fed",
   "metadata": {},
   "outputs": [],
   "source": [
    "df_product.loc[:, 'img'] = 'C:/Users/ASUS/Desktop/T/ĐAN_KLTN/getImages/' + df_product.index.astype(str) + '.jpg'\n",
    "df_product"
   ]
  },
  {
   "cell_type": "code",
   "execution_count": null,
   "id": "c705fb34-d3ac-4313-8e88-f1c16fb6395a",
   "metadata": {
    "scrolled": true
   },
   "outputs": [],
   "source": [
    "for path in df_product.loc[2790:2795, 'img']:\n",
    "    display(Image(filename=path))"
   ]
  },
  {
   "cell_type": "code",
   "execution_count": null,
   "id": "60b3956c-547c-4c30-9664-33c9ba35bcfd",
   "metadata": {},
   "outputs": [],
   "source": [
    "df_product.loc[:, 'titles'] = df_product['titles'].apply(lambda x: unicodedata.normalize('NFC', x))"
   ]
  },
  {
   "cell_type": "code",
   "execution_count": null,
   "id": "2ea262e1-8b64-464f-b064-da1aedd72fd8",
   "metadata": {},
   "outputs": [],
   "source": [
    "len(df_product[df_product['prices'] <= 0])"
   ]
  },
  {
   "cell_type": "code",
   "execution_count": null,
   "id": "ffeeaa92-6625-4ed6-9470-b0c8c58db2b1",
   "metadata": {},
   "outputs": [],
   "source": [
    "df_product[df_product['prices'] <= 0]"
   ]
  },
  {
   "cell_type": "code",
   "execution_count": null,
   "id": "df2b348e-497e-4a09-8de1-eaf1711bcc89",
   "metadata": {},
   "outputs": [],
   "source": [
    "df_product = df_product.drop([1208])"
   ]
  },
  {
   "cell_type": "code",
   "execution_count": null,
   "id": "b23c7c33-78b8-47a1-a8ec-fee936955db8",
   "metadata": {},
   "outputs": [],
   "source": [
    "len(df_product[df_product['countSales'] < 0])"
   ]
  },
  {
   "cell_type": "markdown",
   "id": "bfe476bf-278c-466a-89df-acef0868957e",
   "metadata": {
    "jp-MarkdownHeadingCollapsed": true
   },
   "source": [
    "### Classifying products from images and titles ---> *failed*"
   ]
  },
  {
   "cell_type": "code",
   "execution_count": null,
   "id": "65483d8f-9e5f-459e-b17f-4df64a2ae807",
   "metadata": {
    "scrolled": true
   },
   "outputs": [],
   "source": [
    "csv_path = 'C:/Users/ASUS/Desktop/T/ĐAN_KLTN/kaggle_clothes_train/images.csv'\n",
    "img_dir = 'C:/Users/ASUS/Desktop/T/ĐAN_KLTN/kaggle_clothes_train/images_compressed'\n",
    "\n",
    "df_train_img = pd.read_csv(csv_path)\n",
    "df_train_img"
   ]
  },
  {
   "cell_type": "code",
   "execution_count": null,
   "id": "4afc121e-1ef8-4810-bfc7-871ada387139",
   "metadata": {},
   "outputs": [],
   "source": [
    "import os\n",
    "import numpy as np\n",
    "from PIL import Image\n",
    "from sklearn.model_selection import train_test_split\n",
    "from sklearn.ensemble import RandomForestClassifier\n",
    "from sklearn.preprocessing import LabelEncoder\n",
    "from sklearn.metrics import accuracy_score\n",
    "\n",
    "IMG_SIZE = (64, 64)\n",
    "\n",
    "X_train, y_train = [], []\n",
    "for _, row in df_train_img.iterrows():\n",
    "    img_path = os.path.join(img_dir, row['image'] + '.jpg')\n",
    "    try:\n",
    "        img = Image.open(img_path).convert('RGB').resize(IMG_SIZE)\n",
    "        img_array = np.array(img).flatten()\n",
    "        X_train.append(img_array)\n",
    "        y_train.append(row['label'])\n",
    "    except:\n",
    "        print(f\"Lỗi đọc ảnh train: {img_path}\")"
   ]
  },
  {
   "cell_type": "code",
   "execution_count": null,
   "id": "a645d017-1e5e-44df-bb8c-7e527e092eeb",
   "metadata": {
    "scrolled": true
   },
   "outputs": [],
   "source": [
    "X_train"
   ]
  },
  {
   "cell_type": "code",
   "execution_count": null,
   "id": "a7213a16-b30f-4104-abce-e15ac18080bb",
   "metadata": {
    "scrolled": true
   },
   "outputs": [],
   "source": [
    "y_train"
   ]
  },
  {
   "cell_type": "code",
   "execution_count": null,
   "id": "b4993e04-d4ef-4ed5-a8a3-cb35061084b9",
   "metadata": {},
   "outputs": [],
   "source": [
    "le = LabelEncoder()\n",
    "y_train_enc = le.fit_transform(y_train)\n",
    "\n",
    "clf = RandomForestClassifier(n_estimators=100, random_state=42)\n",
    "clf.fit(X_train, y_train_enc)\n",
    "\n",
    "X_predict = []\n",
    "valid_img_names = []\n",
    "failed_imgs = []"
   ]
  },
  {
   "cell_type": "code",
   "execution_count": null,
   "id": "2eebf6dd-8cf6-4403-ac7a-fd0543e59bfa",
   "metadata": {
    "scrolled": true
   },
   "outputs": [],
   "source": [
    "for _, row in df_product.iterrows():\n",
    "    img_path = os.path.join(img_dir, row['img'])\n",
    "    try:\n",
    "        img = Image.open(img_path).convert('RGB').resize(IMG_SIZE)\n",
    "        img_array = np.array(img).flatten()\n",
    "        X_predict.append(img_array)\n",
    "        valid_img_names.append(row['img'])\n",
    "    except:\n",
    "        print(f\"Lỗi đọc ảnh predict: {img_path}\")\n",
    "        failed_imgs.append(row['img'])"
   ]
  },
  {
   "cell_type": "code",
   "execution_count": null,
   "id": "b67baee2-d4b4-4cd8-9a27-9c382755a043",
   "metadata": {},
   "outputs": [],
   "source": [
    "y_pred_enc = clf.predict(X_predict)\n",
    "y_pred_labels = le.inverse_transform(y_pred_enc)\n",
    "\n",
    "df_pred = pd.DataFrame({'img': valid_img_names, 'category': y_pred_labels})\n",
    "df_product = df_product.merge(df_pred, on='img', how='left')\n",
    "\n",
    "print(df_product[['img', 'category']].head())"
   ]
  },
  {
   "cell_type": "code",
   "execution_count": null,
   "id": "edbbbda7-b420-46c5-bd44-b7e2ecd1facc",
   "metadata": {},
   "outputs": [],
   "source": [
    "df_product['category'].value_counts()"
   ]
  },
  {
   "cell_type": "code",
   "execution_count": null,
   "id": "0711846e-2bd6-4106-96c6-986a87c511fe",
   "metadata": {},
   "outputs": [],
   "source": [
    "df_product.loc[:, 'category'] = df_product['category'].fillna('Not sure')"
   ]
  },
  {
   "cell_type": "code",
   "execution_count": null,
   "id": "c7117a55-4601-43e6-9a78-7cb07c66f386",
   "metadata": {},
   "outputs": [],
   "source": [
    "df_known = df_product[df_product['category'] != 'Not sure']\n",
    "df_unknown = df_product[df_product['category'] == 'Not sure']"
   ]
  },
  {
   "cell_type": "code",
   "execution_count": null,
   "id": "345d1bcd-3f3a-420c-9c04-ebf2c3672cfa",
   "metadata": {
    "scrolled": true
   },
   "outputs": [],
   "source": [
    "df_known"
   ]
  },
  {
   "cell_type": "code",
   "execution_count": null,
   "id": "02fec81e-2883-43c0-86d4-ba63126f9908",
   "metadata": {
    "scrolled": true
   },
   "outputs": [],
   "source": [
    "df_unknown"
   ]
  },
  {
   "cell_type": "code",
   "execution_count": null,
   "id": "cb30f613-2d7c-4dee-b7f5-01cf273184b2",
   "metadata": {},
   "outputs": [],
   "source": [
    "from sklearn.feature_extraction.text import TfidfVectorizer\n",
    "\n",
    "vectorizer = TfidfVectorizer(max_features=1000)\n",
    "X_known = vectorizer.fit_transform(df_known['titles'].astype(str))\n",
    "X_unknown = vectorizer.transform(df_unknown['titles'].astype(str))\n",
    "\n",
    "le_nlp = LabelEncoder()\n",
    "y_known = le_nlp.fit_transform(df_known['category'])"
   ]
  },
  {
   "cell_type": "code",
   "execution_count": null,
   "id": "fb8f069c-d24c-48b8-bc65-3b1a0096f110",
   "metadata": {},
   "outputs": [],
   "source": [
    "clf_nlp = RandomForestClassifier(n_estimators=100, random_state=42)\n",
    "clf_nlp.fit(X_known, y_known)\n",
    "y_pred_nlp = clf_nlp.predict(X_unknown)\n",
    "predicted_labels = le_nlp.inverse_transform(y_pred_nlp)\n",
    "df_product.loc[df_product['category'] == 'Not sure', 'category'] = predicted_labels"
   ]
  },
  {
   "cell_type": "code",
   "execution_count": null,
   "id": "1634fc35-29d4-479c-9858-0ffb03688f6b",
   "metadata": {},
   "outputs": [],
   "source": [
    "df_product['category'].value_counts()"
   ]
  },
  {
   "cell_type": "code",
   "execution_count": null,
   "id": "506723d8-6c3c-4bf3-85a4-dcabb9a55553",
   "metadata": {},
   "outputs": [],
   "source": [
    "def show_images_with_categories(df, img_dir, n=12):\n",
    "    df = df.reset_index(drop=True)\n",
    "    total = min(n, len(df))\n",
    "    cols = 4\n",
    "    rows = (total // cols) + (total % cols > 0)\n",
    "    \n",
    "    plt.figure(figsize=(4 * cols, 4 * rows))\n",
    "    \n",
    "    for i in range(total):\n",
    "        img_name = df.loc[i, 'img']\n",
    "        category = df.loc[i, 'category']\n",
    "        img_path = os.path.join(img_dir, img_name)\n",
    "        \n",
    "        try:\n",
    "            img = Image.open(img_path).convert('RGB')\n",
    "            plt.subplot(rows, cols, i + 1)\n",
    "            plt.imshow(img)\n",
    "            plt.axis('off')\n",
    "            plt.title(category, fontsize=10)\n",
    "        except:\n",
    "            print(f\"Lỗi khi mở ảnh: {img_path}\")\n",
    "    \n",
    "    plt.tight_layout()\n",
    "    plt.show()"
   ]
  },
  {
   "cell_type": "code",
   "execution_count": null,
   "id": "ab3d79d0-077d-48b0-96dd-d7ee86f2eb85",
   "metadata": {
    "scrolled": true
   },
   "outputs": [],
   "source": [
    "show_images_with_categories(df_product, img_dir, n=100)"
   ]
  },
  {
   "cell_type": "markdown",
   "id": "6bfeb53e-4a67-4e15-b6de-ead6cb5cafdb",
   "metadata": {},
   "source": [
    "### Classifying products from titles (manual)"
   ]
  },
  {
   "cell_type": "code",
   "execution_count": null,
   "id": "fc849387-eb51-4ae5-90ea-e8d4d193df27",
   "metadata": {},
   "outputs": [],
   "source": [
    "category_keywords = {\n",
    "    'T-Shirt': ['t-shirt', 'tee', 'áo thun'],\n",
    "    'Pants': ['pants', 'quần dài', 'trousers', 'jeans', 'quần'],\n",
    "    'Longsleeve': ['longsleeve', 'dài tay', 'áo tay dài', 'áo dài'],\n",
    "    'Shoes': ['giày', 'shoes', 'sneaker', 'loafers', 'boot', 'dép', 'dép lê', 'sục', 'boost', 'bốt', 'high heels', 'guốc', 'cao gót', 'sandal', 'xăng đan'],\n",
    "    'Dress': ['váy', 'dress', 'đầm', 'đầm xòe'],\n",
    "    'Shirt': ['shirt', 'sơ mi', 'áo sơ mi', 'áo'],\n",
    "    'Hoodie': ['hoodie'],\n",
    "    'Outwear': ['áo khoác', 'khoác', 'jacket', 'coat', 'outerwear'],\n",
    "    'Shorts': ['short', 'quần short', 'quần đùi'],\n",
    "    'Body': ['body', 'bodysuit'],\n",
    "    'Hat': ['hat', 'mũ', 'nón', 'rộng vành', 'lưỡi trai', 'tóc'],\n",
    "    'Undershirt': ['undershirt', 'áo lót', 'áo trong', 'bra'],\n",
    "    'Skirt': ['skirt', 'chân váy', 'váy tennis', 'váy xòe', 'xòe'],\n",
    "    'Blazer': ['blazer'],\n",
    "    'Set': ['set', 'sét', 'đồ ngủ', 'pijama', 'đồ bộ', 'bộ đồ', 'đồ lam', 'bộ', 'pháp phục', 'jump', 'đồng phục']\n",
    "}"
   ]
  },
  {
   "cell_type": "code",
   "execution_count": null,
   "id": "eeb599f9-5d47-4bb7-8710-3f2ddacbb52a",
   "metadata": {},
   "outputs": [],
   "source": [
    "import re\n",
    "\n",
    "def classify_from_title(title):\n",
    "    title = re.sub(r'[^\\w\\s]', ' ', title)\n",
    "    title = re.sub(r'[\\U00010000-\\U0010ffff]', '', title)  # remove emojis\n",
    "    title = re.sub(r'\\s+', ' ', title).strip()\n",
    "    \n",
    "    title_lower = title.lower()\n",
    "    categories_found = []\n",
    "    \n",
    "    for category, keywords in category_keywords.items():\n",
    "        if any(keyword in title_lower for keyword in keywords):\n",
    "            categories_found.append(category)\n",
    "            \n",
    "        if len(categories_found) == 3: # maximun 3 categories\n",
    "            break\n",
    "            \n",
    "    return categories_found"
   ]
  },
  {
   "cell_type": "code",
   "execution_count": null,
   "id": "62fd933f-59fe-4481-a66c-98baab6a6402",
   "metadata": {
    "scrolled": true
   },
   "outputs": [],
   "source": [
    "df_product['category'] = df_product.apply(lambda row: classify_from_title(row['titles']), axis=1)\n",
    "df_product['category'].value_counts()"
   ]
  },
  {
   "cell_type": "code",
   "execution_count": null,
   "id": "2dfaa4ab-87f9-431a-b52a-0375453a0359",
   "metadata": {},
   "outputs": [],
   "source": [
    "df_product[df_product['category'].apply(lambda x: len(x) == 0)]"
   ]
  },
  {
   "cell_type": "code",
   "execution_count": null,
   "id": "c9e4014b-937d-4d86-b17f-db5e409ca5cd",
   "metadata": {},
   "outputs": [],
   "source": [
    "df_product['category'] = df_product['category'].apply(lambda x: ['Not sure'] if isinstance(x, list) and len(x) == 0 else x)"
   ]
  },
  {
   "cell_type": "markdown",
   "id": "b27e7534-8eb9-46c6-87c3-e75b312c4895",
   "metadata": {},
   "source": [
    "### Overview"
   ]
  },
  {
   "cell_type": "code",
   "execution_count": null,
   "id": "ed12af21-789a-4fea-9f57-6a40078d9ac9",
   "metadata": {},
   "outputs": [],
   "source": [
    "df_product.info()"
   ]
  },
  {
   "cell_type": "code",
   "execution_count": null,
   "id": "f2fee6e1-c6b4-4ad1-a76f-c39290057aab",
   "metadata": {
    "scrolled": true
   },
   "outputs": [],
   "source": [
    "df_product"
   ]
  },
  {
   "cell_type": "code",
   "execution_count": null,
   "id": "648adbbe-03ca-4004-b054-263347e4e44a",
   "metadata": {},
   "outputs": [],
   "source": []
  },
  {
   "cell_type": "markdown",
   "id": "931f5dcd-1e39-4a41-ba35-b603a5b95143",
   "metadata": {},
   "source": [
    "## Product's comments dataframe "
   ]
  },
  {
   "cell_type": "code",
   "execution_count": null,
   "id": "9bd9a643-be7b-4692-ab66-85ea59b10d5f",
   "metadata": {
    "scrolled": true
   },
   "outputs": [],
   "source": [
    "df_cmt = pd.read_csv(r'C:\\Users\\ASUS\\Desktop\\T\\ĐAN_KLTN\\getcomment\\combined_data.csv')\n",
    "df_cmt"
   ]
  },
  {
   "cell_type": "code",
   "execution_count": null,
   "id": "4ea52641-f6ad-48d3-94e3-fdeb77dae15f",
   "metadata": {
    "scrolled": true
   },
   "outputs": [],
   "source": [
    "df_cmt.info()"
   ]
  },
  {
   "cell_type": "code",
   "execution_count": null,
   "id": "6ccfb55c-8019-442a-9528-2c27a32e8b0b",
   "metadata": {},
   "outputs": [],
   "source": [
    "df_cmt = df_cmt.drop(columns=['like_count'])\n",
    "df_cmt = df_cmt.drop(columns=['stt'])\n",
    "df_cmt = df_cmt.drop(columns=['name_comment'])\n",
    "df_cmt"
   ]
  },
  {
   "cell_type": "code",
   "execution_count": null,
   "id": "329a730d-a397-475d-88fb-9cd1263626d7",
   "metadata": {},
   "outputs": [],
   "source": [
    "df_cmt['star_count'] = pd.to_numeric(df_cmt['star_count'], errors='coerce').fillna(0).astype(int)"
   ]
  },
  {
   "cell_type": "code",
   "execution_count": null,
   "id": "a497615f-5e70-4868-9e0e-a10533419098",
   "metadata": {},
   "outputs": [],
   "source": [
    "df_cmt[(df_cmt['star_count'] < 0) | (df_cmt['star_count'] > 5)]"
   ]
  },
  {
   "cell_type": "code",
   "execution_count": null,
   "id": "dd7246ff-c5c8-450c-9661-344678a970f2",
   "metadata": {},
   "outputs": [],
   "source": [
    "df_cmt['content_comment'].isna().sum()"
   ]
  },
  {
   "cell_type": "code",
   "execution_count": null,
   "id": "99e3cb14-04e6-4cc6-bd07-23e3c707f0eb",
   "metadata": {},
   "outputs": [],
   "source": [
    "df_cmt = df_cmt.dropna(subset=['content_comment'])"
   ]
  },
  {
   "cell_type": "code",
   "execution_count": null,
   "id": "a00cfc23-891f-4f96-9df6-fc29b102decf",
   "metadata": {
    "scrolled": true
   },
   "outputs": [],
   "source": [
    "df_cmt.loc[:, 'content_comment'] = df_cmt['content_comment'].apply(lambda x: unicodedata.normalize('NFC', x) if isinstance(x, str) else x)\n",
    "df_cmt"
   ]
  },
  {
   "cell_type": "code",
   "execution_count": null,
   "id": "f158de6b-dc88-447e-b98d-df893ca7cd65",
   "metadata": {},
   "outputs": [],
   "source": [
    "df_cmt.info()"
   ]
  },
  {
   "cell_type": "markdown",
   "id": "b7fa8ad4-d5ad-48f9-8126-3f79ff35a395",
   "metadata": {},
   "source": [
    "# VISUALIZE ATTRIBUTES IN DATAFRAMES"
   ]
  },
  {
   "cell_type": "markdown",
   "id": "b2c2b013-6fa1-4453-ab43-b91b4d2ae0e6",
   "metadata": {},
   "source": [
    "## Product dataframe "
   ]
  },
  {
   "cell_type": "code",
   "execution_count": null,
   "id": "982a4afb-8905-4191-9d11-da0fc3f6f435",
   "metadata": {},
   "outputs": [],
   "source": [
    "df_product.describe()"
   ]
  },
  {
   "cell_type": "code",
   "execution_count": null,
   "id": "85c99db9-722c-49c8-8f2a-609eea511646",
   "metadata": {},
   "outputs": [],
   "source": [
    "df_product['prices'].describe().apply(lambda x: format(x, ',.0f'))"
   ]
  },
  {
   "cell_type": "code",
   "execution_count": null,
   "id": "608d6564-a0ad-485e-a1a9-aa613d6b897f",
   "metadata": {},
   "outputs": [],
   "source": [
    "price_bins = [0, 100000, 500000, 1000000, float('inf')]\n",
    "price_labels = ['0-100k', '100k-500k', '500k-1M', 'Above 1M']\n",
    "df_product['price_range'] = pd.cut(df_product['prices'], bins=price_bins, labels=price_labels, right=False)"
   ]
  },
  {
   "cell_type": "code",
   "execution_count": null,
   "id": "539dbe05-e0d8-4bc9-8a89-73cb47582f3f",
   "metadata": {},
   "outputs": [],
   "source": [
    "price_range_count = df_product['price_range'].value_counts()\n",
    "price_range_count"
   ]
  },
  {
   "cell_type": "code",
   "execution_count": null,
   "id": "da559429-85da-4e7b-87fa-068085a81244",
   "metadata": {},
   "outputs": [],
   "source": [
    "price_range_percentage = (price_range_count / price_range_count.sum()) * 100\n",
    "price_range_percentage"
   ]
  },
  {
   "cell_type": "code",
   "execution_count": null,
   "id": "dc97be7a-4225-4d01-9418-a9d675337e25",
   "metadata": {},
   "outputs": [],
   "source": [
    "fig, axes = plt.subplots(1, 2, figsize=(14, 6))\n",
    "axes[0].pie(\n",
    "    price_range_percentage,\n",
    "    labels=[f'{label} ({pct:.1f}%)' for label, pct in zip(price_range_percentage.index, price_range_percentage)],\n",
    "    startangle=140,\n",
    "    colors=plt.cm.Pastel1.colors,\n",
    "    autopct='%1.1f%%'\n",
    ")\n",
    "axes[0].set_title('Product Price Range - Pie Chart')\n",
    "axes[0].axis('equal')\n",
    "\n",
    "sns.countplot(ax=axes[1], x='price_range', data=df_product, palette='Pastel1', order=price_labels)\n",
    "axes[1].set_title('Product Price Range - Bar Chart')\n",
    "axes[1].set_xlabel('Price Range')\n",
    "axes[1].set_ylabel('Number of Products')\n",
    "plt.tight_layout()\n",
    "plt.show()"
   ]
  },
  {
   "cell_type": "code",
   "execution_count": null,
   "id": "ddd2b726-6718-4c2c-bd5e-fb67e520d1ab",
   "metadata": {},
   "outputs": [],
   "source": [
    "df_product['discounts'].describe()"
   ]
  },
  {
   "cell_type": "code",
   "execution_count": null,
   "id": "ff5e98f5-6e99-4c66-84e6-90a6dd838984",
   "metadata": {},
   "outputs": [],
   "source": [
    "plt.figure(figsize=(8, 4))\n",
    "sns.boxplot(x=df_product['discounts'], color='skyblue')\n",
    "plt.title('Boxplot of Product Discounts')\n",
    "plt.xlabel('Discount (%)')\n",
    "plt.show()"
   ]
  },
  {
   "cell_type": "code",
   "execution_count": null,
   "id": "a7647c67-5ef3-48b8-a7a3-14a8f220fc46",
   "metadata": {},
   "outputs": [],
   "source": [
    "plt.figure(figsize=(10, 6))\n",
    "sns.histplot(df_product['discounts'], kde=True, color='lightgreen', bins=30)\n",
    "plt.title('Discount Distribution')\n",
    "plt.xlabel('Discount (%)')\n",
    "plt.ylabel('Frequency')\n",
    "plt.show()"
   ]
  },
  {
   "cell_type": "code",
   "execution_count": null,
   "id": "8e641a99-5c0f-4e21-8b28-da22885df694",
   "metadata": {},
   "outputs": [],
   "source": [
    "len(df_product[df_product['discounts'] == 0])"
   ]
  },
  {
   "cell_type": "code",
   "execution_count": null,
   "id": "1589cdf2-b04f-4809-8c5a-ee466b9079ae",
   "metadata": {},
   "outputs": [],
   "source": [
    "df_product['countSales'].describe()"
   ]
  },
  {
   "cell_type": "code",
   "execution_count": null,
   "id": "294e6921-9ac3-48f0-87c5-4b147505c0db",
   "metadata": {},
   "outputs": [],
   "source": [
    "plt.figure(figsize=(10, 6))\n",
    "sns.histplot(df_product['countSales'], kde=True, color='orange', bins=30)\n",
    "plt.title('Product Sales Distribution')\n",
    "plt.xlabel('Number of Sales')\n",
    "plt.ylabel('Frequency')\n",
    "plt.show()"
   ]
  },
  {
   "cell_type": "code",
   "execution_count": null,
   "id": "ffe31f43-d310-4b50-afb6-fd498ee5afe8",
   "metadata": {},
   "outputs": [],
   "source": [
    "plt.figure(figsize=(10, 6))\n",
    "sns.scatterplot(x='prices', y='countSales', hue='price_range', data=df_product, palette='viridis', alpha=0.6)\n",
    "plt.title('Prices vs. Sales Count', fontsize=16)\n",
    "plt.xlabel('Price', fontsize=12)\n",
    "plt.ylabel('Sales Count', fontsize=12)\n",
    "plt.tight_layout()\n",
    "plt.show()"
   ]
  },
  {
   "cell_type": "code",
   "execution_count": null,
   "id": "6eeca32b-a952-4ba1-a3e9-1f681f22b71b",
   "metadata": {
    "scrolled": true
   },
   "outputs": [],
   "source": [
    "price_above500k_sales_above500 = df_product[(df_product['prices'] > 500000) & (df_product['countSales'] > 500)]\n",
    "price_above500k_sales_above500"
   ]
  },
  {
   "cell_type": "code",
   "execution_count": null,
   "id": "90f9f60e-e191-4330-9f15-6f7ac4e33523",
   "metadata": {},
   "outputs": [],
   "source": [
    "category_counts = df_product.explode('category')['category'].value_counts()\n",
    "category_counts"
   ]
  },
  {
   "cell_type": "code",
   "execution_count": null,
   "id": "18809bc4-192a-44a1-aeb1-1b96411d744d",
   "metadata": {},
   "outputs": [],
   "source": [
    "unique_categories = df_product.explode('category')['category'].unique()\n",
    "unique_categories"
   ]
  },
  {
   "cell_type": "code",
   "execution_count": null,
   "id": "f2f8c459-6e79-482f-91b8-72c66c0ac05a",
   "metadata": {},
   "outputs": [],
   "source": [
    "plt.figure(figsize=(14, 8))\n",
    "sns.boxplot(data=df_product.explode('category').reset_index(drop=True), x='category', y='discounts', palette='Set3')\n",
    "plt.title('Distribution of Discounts by Product Category')\n",
    "plt.xlabel('Category')\n",
    "plt.ylabel('Discounts')\n",
    "plt.tight_layout()\n",
    "plt.show()"
   ]
  },
  {
   "cell_type": "code",
   "execution_count": null,
   "id": "cdad41e9-18dc-493e-902f-d6d675aa46ce",
   "metadata": {},
   "outputs": [],
   "source": [
    "df_product.explode('category').groupby('category')['discounts'].describe()"
   ]
  },
  {
   "cell_type": "code",
   "execution_count": null,
   "id": "802c44f5-e5a5-409c-b6c5-a1a8b9dd0f7d",
   "metadata": {},
   "outputs": [],
   "source": [
    "discounted_per_category = df_product.explode('category')[df_product.explode('category')['discounts'] > 0.0].groupby('category').size()\n",
    "discounted_per_category"
   ]
  },
  {
   "cell_type": "code",
   "execution_count": null,
   "id": "0e5d4a30-0af9-4c66-b839-656430c26fa8",
   "metadata": {},
   "outputs": [],
   "source": [
    "discount_per_category_ratio = (discounted_per_category / category_counts).fillna(0).sort_values(ascending=False) * 100\n",
    "discount_per_category_ratio"
   ]
  },
  {
   "cell_type": "code",
   "execution_count": null,
   "id": "3eb1e4de-b093-455a-8e75-b660a28d35b0",
   "metadata": {},
   "outputs": [],
   "source": [
    "no_discount_per_category_ratio = 100 - discount_per_category_ratio\n",
    "stacked_ratio_df = pd.DataFrame({'Discounted (%)': discount_per_category_ratio, 'Not Discounted (%)': no_discount_per_category_ratio}).sort_values('Discounted (%)')\n",
    "stacked_ratio_df.plot(kind='barh', stacked=True, figsize=(10, 7), color=['#4CAF50', '#c1e3c1'])\n",
    "\n",
    "plt.xlabel('Percentage of Products')\n",
    "plt.title('Percentage of Discounted vs Non-Discounted Products by Category')\n",
    "plt.legend(title='Discount Status', loc='lower right')\n",
    "plt.tight_layout()\n",
    "plt.show()"
   ]
  },
  {
   "cell_type": "code",
   "execution_count": null,
   "id": "297033ce-6ab8-4f34-87a1-8ac8494a749d",
   "metadata": {
    "scrolled": true
   },
   "outputs": [],
   "source": [
    "import math\n",
    "\n",
    "n_categories = len(unique_categories)\n",
    "n_cols = 2\n",
    "n_rows = math.ceil(n_categories / n_cols)\n",
    "fig, axes = plt.subplots(n_rows, n_cols, figsize=(15, 6 * n_rows))\n",
    "\n",
    "for i, category in enumerate(unique_categories):\n",
    "    category_data = df_product[df_product['category'].apply(lambda x: category in x)]\n",
    "    row = i // n_cols\n",
    "    col = i % n_cols\n",
    "    sns.countplot(ax=axes[row, col], x='price_range', data=category_data, palette='Pastel1')\n",
    "    axes[row, col].set_title(f'Price Range Distribution for {category}')\n",
    "    axes[row, col].set_xlabel('Price Range')\n",
    "    axes[row, col].set_ylabel('Number of Products')\n",
    "    \n",
    "if n_categories % n_cols != 0:\n",
    "    for j in range(i + 1, n_rows * n_cols):\n",
    "        fig.delaxes(axes.flatten()[j])\n",
    "\n",
    "plt.tight_layout()\n",
    "plt.show()"
   ]
  },
  {
   "cell_type": "code",
   "execution_count": null,
   "id": "0fd3a799-c449-4d92-a1d7-f40afcd2543a",
   "metadata": {
    "scrolled": true
   },
   "outputs": [],
   "source": [
    "price_range_category = df_product.explode('category').groupby(['category', 'price_range']).size().reset_index(name='count')\n",
    "price_range_category"
   ]
  },
  {
   "cell_type": "code",
   "execution_count": null,
   "id": "e359aa00-ca8a-45df-9d1f-bfa544fdd4ce",
   "metadata": {},
   "outputs": [],
   "source": [
    "pivot_df = price_range_category.pivot(index='category', columns='price_range', values='count').fillna(0)\n",
    "pivot_df = pivot_df.loc[pivot_df.sum(axis=1).sort_values(ascending=False).index]\n",
    "\n",
    "pivot_df.plot(kind='bar', stacked=True, figsize=(14, 7), colormap='Pastel1', edgecolor='black')\n",
    "plt.title(\"Product Distribution by Category and Price Range\", fontsize=16)\n",
    "plt.xlabel(\"Product Category\")\n",
    "plt.ylabel(\"Number of Products\")\n",
    "plt.xticks(rotation=45)\n",
    "plt.legend(title=\"Price Range\")\n",
    "plt.tight_layout()\n",
    "plt.show()"
   ]
  },
  {
   "cell_type": "code",
   "execution_count": null,
   "id": "b9f5235f-1845-4e4c-a114-00ad64b68c6f",
   "metadata": {},
   "outputs": [],
   "source": [
    "plt.figure(figsize=(10, 6))\n",
    "sns.scatterplot(data=df_product, x='discounts', y='countSales', alpha=0.6)\n",
    "plt.title('Relationship between Discounts and Sales Count')\n",
    "plt.xlabel('Discount (as a fraction, e.g., 0.4 = 40%)')\n",
    "plt.ylabel('Sales Count')\n",
    "plt.tight_layout()\n",
    "plt.show()"
   ]
  },
  {
   "cell_type": "code",
   "execution_count": null,
   "id": "f9be0e93-09f8-45e6-80f2-291f37b040ef",
   "metadata": {},
   "outputs": [],
   "source": [
    "df_product['discounted'] = df_product['discounts'] > 0\n",
    "avg_sales_overall = df_product.groupby('discounted')['countSales'].mean()\n",
    "avg_sales_by_category = df_product.explode('category').groupby(['category', 'discounted'])['countSales'].mean().unstack()\n",
    "\n",
    "fig, axes = plt.subplots(2, 1, figsize=(12, 10))\n",
    "avg_sales_overall.plot(kind='bar', color=['#a3c9f1', '#2166ac'], ax=axes[0])\n",
    "axes[0].set_title('Average Units Sold: Discounted vs Non-Discounted')\n",
    "axes[0].set_ylabel('Average Units Sold')\n",
    "axes[0].set_xticks([0, 1])\n",
    "axes[0].set_xticklabels(['No Discount', 'Discount'], rotation=0)\n",
    "\n",
    "avg_sales_by_category.plot(kind='bar', ax=axes[1], color=['#a3c9f1', '#2166ac'])\n",
    "axes[1].set_title('Average Sales with and without Discount')\n",
    "axes[1].set_ylabel('Average Units Sold')\n",
    "plt.tight_layout()\n",
    "plt.show()"
   ]
  },
  {
   "cell_type": "code",
   "execution_count": null,
   "id": "8e50bed3-42f4-4c00-9ef5-ed32b1ad3bc5",
   "metadata": {},
   "outputs": [],
   "source": [
    "from wordcloud import WordCloud\n",
    "titles = ' '.join(df_product['titles'].dropna())\n",
    "wordcloud = WordCloud(width=800, height=400, background_color='white').generate(titles)\n",
    "plt.figure(figsize=(10, 5))\n",
    "plt.imshow(wordcloud, interpolation='bicubic')\n",
    "plt.axis('off')\n",
    "plt.show()"
   ]
  },
  {
   "cell_type": "code",
   "execution_count": null,
   "id": "1f4b432e-5806-4db4-906e-d9eb596dfb73",
   "metadata": {},
   "outputs": [],
   "source": [
    "import unicodedata\n",
    "import nltk\n",
    "from nltk.tokenize import word_tokenize\n",
    "\n",
    "def generate_ngrams(string, n):\n",
    "    string = unicodedata.normalize('NFC', string)\n",
    "    tokens = word_tokenize(string, language='english')\n",
    "    tokens = [token.lower() for token in tokens]\n",
    "    return [' '.join(tokens[i:i + n]) for i in range(len(tokens) - n + 1)]"
   ]
  },
  {
   "cell_type": "code",
   "execution_count": null,
   "id": "ca3ff020-cf3b-4fc0-986a-b1da2aa22a74",
   "metadata": {},
   "outputs": [],
   "source": [
    "from collections import Counter\n",
    "\n",
    "_1gram = generate_ngrams(titles, 1)\n",
    "word_counts = Counter(_1gram)\n",
    "word_counts.most_common(20)"
   ]
  },
  {
   "cell_type": "code",
   "execution_count": null,
   "id": "0885c7c3-966f-4398-ad9f-2419cc534035",
   "metadata": {},
   "outputs": [],
   "source": [
    "_2grams = generate_ngrams(titles, 2)\n",
    "_2words_counts = Counter(_2grams)\n",
    "_2words_counts.most_common(20)"
   ]
  },
  {
   "cell_type": "markdown",
   "id": "9c733c79-1028-4f3d-a674-5070ab7c24da",
   "metadata": {},
   "source": [
    "## Product's comments dataframe "
   ]
  },
  {
   "cell_type": "code",
   "execution_count": null,
   "id": "fc4a7989-3822-4351-8094-e92e01b382fe",
   "metadata": {},
   "outputs": [],
   "source": [
    "df_cmt.info()"
   ]
  },
  {
   "cell_type": "code",
   "execution_count": null,
   "id": "a7e4afd1-82ef-4154-ac51-3faa33e259d3",
   "metadata": {},
   "outputs": [],
   "source": [
    "df_cmt.describe()"
   ]
  },
  {
   "cell_type": "code",
   "execution_count": null,
   "id": "0786381c-b4da-44f8-984f-e9df538dc389",
   "metadata": {},
   "outputs": [],
   "source": [
    "star_counts = df_cmt['star_count'].value_counts()\n",
    "star_counts"
   ]
  },
  {
   "cell_type": "code",
   "execution_count": null,
   "id": "ccca5a0b-22cb-4973-91c4-f395bd1537aa",
   "metadata": {},
   "outputs": [],
   "source": [
    "plt.figure(figsize=(10, 6))\n",
    "ax = sns.countplot(x='star_count', data=df_cmt, palette='Accent')\n",
    "for p in ax.patches:\n",
    "    height = p.get_height()\n",
    "    ax.annotate(f'{height}', \n",
    "                (p.get_x() + p.get_width() / 2., height), \n",
    "                ha='center', va='bottom', fontsize=10)  \n",
    "\n",
    "plt.title('Star Rating Distribution in Comments')\n",
    "plt.xlabel('Star Rating')\n",
    "plt.ylabel('Number of Comments')\n",
    "plt.show()"
   ]
  },
  {
   "cell_type": "code",
   "execution_count": null,
   "id": "08547f47-1fd1-44c4-bcdd-7a47b01983dd",
   "metadata": {
    "scrolled": true
   },
   "outputs": [],
   "source": [
    "df = pd.merge(df_product, df_cmt, left_on='links', right_on='Link', how='inner')\n",
    "df"
   ]
  },
  {
   "cell_type": "code",
   "execution_count": null,
   "id": "e30dbc06-3ea1-4b3a-a335-c134a2525e97",
   "metadata": {},
   "outputs": [],
   "source": [
    "plt.figure(figsize=(10, 6))\n",
    "sns.boxplot(x='star_count', y='countSales', data=df, palette='Set3')\n",
    "plt.title('Sales Distribution by Star Rating')\n",
    "plt.xlabel('Star Rating')\n",
    "plt.ylabel('Number of Sales')\n",
    "plt.show()"
   ]
  },
  {
   "cell_type": "code",
   "execution_count": null,
   "id": "ebdabac1-0306-429d-98e0-22b3d2d6519e",
   "metadata": {},
   "outputs": [],
   "source": [
    "text = ' '.join(df_cmt['content_comment'].dropna())\n",
    "wordcloud = WordCloud(width=800, height=400, background_color='white').generate(text)\n",
    "\n",
    "plt.figure(figsize=(10, 6))\n",
    "plt.imshow(wordcloud, interpolation='bilinear')\n",
    "plt.axis('off')\n",
    "plt.title('Word Cloud of Comments')\n",
    "plt.show()"
   ]
  },
  {
   "cell_type": "code",
   "execution_count": null,
   "id": "4962fa03-ef92-43c8-ab8c-59bb01472609",
   "metadata": {},
   "outputs": [],
   "source": []
  }
 ],
 "metadata": {
  "kernelspec": {
   "display_name": "Python 3 (ipykernel)",
   "language": "python",
   "name": "python3"
  },
  "language_info": {
   "codemirror_mode": {
    "name": "ipython",
    "version": 3
   },
   "file_extension": ".py",
   "mimetype": "text/x-python",
   "name": "python",
   "nbconvert_exporter": "python",
   "pygments_lexer": "ipython3",
   "version": "3.12.4"
  }
 },
 "nbformat": 4,
 "nbformat_minor": 5
}
